{
 "cells": [
  {
   "cell_type": "code",
   "execution_count": 1,
   "id": "2ea8189b-168b-4deb-aea0-8920d8a39330",
   "metadata": {},
   "outputs": [],
   "source": [
    "import pandas as pd\n",
    "import numpy as np\n",
    "import seaborn as sns\n",
    "import matplotlib.pyplot as plt "
   ]
  },
  {
   "cell_type": "markdown",
   "id": "d91b9c2c-1634-400d-98a0-7d9e8632117b",
   "metadata": {},
   "source": [
    "## We have give a data of all t20 matches , our objective is to explore PSL tournament visualize their data"
   ]
  },
  {
   "cell_type": "code",
   "execution_count": 2,
   "id": "4e138975-bb8d-4baa-8f4c-63423621a7cb",
   "metadata": {},
   "outputs": [],
   "source": [
    "# Reading our dataset \n",
    "data=pd.read_csv('t20_matches-checkpoint.csv')"
   ]
  },
  {
   "cell_type": "markdown",
   "id": "1e2fcfc2-9bc2-4cd3-bd0a-ef8071f3cf94",
   "metadata": {},
   "source": [
    "## As we have many series played by many teams so we are calling omly PSL series. There are two tournaments with two different series IDs we are going to call them and cocatenate them to make a single dataset"
   ]
  },
  {
   "cell_type": "code",
   "execution_count": 3,
   "id": "811a76ef-b688-4888-8319-7010c7479356",
   "metadata": {},
   "outputs": [],
   "source": [
    "df1=data[data[\"series_id\"] == 923069]"
   ]
  },
  {
   "cell_type": "code",
   "execution_count": 4,
   "id": "19e1d83c-e578-4e1e-888e-9e4803c321d9",
   "metadata": {},
   "outputs": [],
   "source": [
    "df2=data[data[\"series_id\"] ==  1075974]"
   ]
  },
  {
   "cell_type": "code",
   "execution_count": 5,
   "id": "2b611eae-57cf-4928-9fb0-b9079735dc83",
   "metadata": {},
   "outputs": [],
   "source": [
    "data=pd.concat([df1,df2] , axis=0).reset_index()"
   ]
  },
  {
   "cell_type": "code",
   "execution_count": 6,
   "id": "7442b5be-0de4-4cff-bdbf-89f84f9f0ece",
   "metadata": {},
   "outputs": [
    {
     "data": {
      "text/plain": [
       "(48, 27)"
      ]
     },
     "execution_count": 6,
     "metadata": {},
     "output_type": "execute_result"
    }
   ],
   "source": [
    "data.shape"
   ]
  },
  {
   "cell_type": "code",
   "execution_count": 7,
   "id": "b63c0a34-06d6-4db7-978e-2c3eea8b1b5a",
   "metadata": {},
   "outputs": [
    {
     "data": {
      "text/plain": [
       "Index(['index', 'match_id', 'series_id', 'match_details', 'result', 'scores',\n",
       "       'date', 'venue', 'round', 'home', 'away', 'winner', 'win_by_runs',\n",
       "       'win_by_wickets', 'balls_remaining', 'innings1', 'innings1_runs',\n",
       "       'innings1_wickets', 'innings1_overs_batted', 'innings1_overs',\n",
       "       'innings2', 'innings2_runs', 'innings2_wickets',\n",
       "       'innings2_overs_batted', 'innings2_overs', 'D/L_method', 'target'],\n",
       "      dtype='object')"
      ]
     },
     "execution_count": 7,
     "metadata": {},
     "output_type": "execute_result"
    }
   ],
   "source": [
    "data.columns"
   ]
  },
  {
   "cell_type": "code",
   "execution_count": 8,
   "id": "fa2a100f-5924-4a79-9d27-b127b8203232",
   "metadata": {},
   "outputs": [
    {
     "name": "stdout",
     "output_type": "stream",
     "text": [
      "<class 'pandas.core.frame.DataFrame'>\n",
      "RangeIndex: 48 entries, 0 to 47\n",
      "Data columns (total 27 columns):\n",
      " #   Column                 Non-Null Count  Dtype  \n",
      "---  ------                 --------------  -----  \n",
      " 0   index                  48 non-null     int64  \n",
      " 1   match_id               48 non-null     int64  \n",
      " 2   series_id              48 non-null     int64  \n",
      " 3   match_details          48 non-null     object \n",
      " 4   result                 48 non-null     object \n",
      " 5   scores                 48 non-null     object \n",
      " 6   date                   48 non-null     object \n",
      " 7   venue                  48 non-null     object \n",
      " 8   round                  48 non-null     object \n",
      " 9   home                   48 non-null     object \n",
      " 10  away                   48 non-null     object \n",
      " 11  winner                 48 non-null     object \n",
      " 12  win_by_runs            18 non-null     float64\n",
      " 13  win_by_wickets         29 non-null     float64\n",
      " 14  balls_remaining        29 non-null     float64\n",
      " 15  innings1               48 non-null     object \n",
      " 16  innings1_runs          48 non-null     float64\n",
      " 17  innings1_wickets       48 non-null     float64\n",
      " 18  innings1_overs_batted  48 non-null     float64\n",
      " 19  innings1_overs         48 non-null     float64\n",
      " 20  innings2               47 non-null     object \n",
      " 21  innings2_runs          47 non-null     float64\n",
      " 22  innings2_wickets       47 non-null     float64\n",
      " 23  innings2_overs_batted  47 non-null     float64\n",
      " 24  innings2_overs         47 non-null     float64\n",
      " 25  D/L_method             2 non-null      float64\n",
      " 26  target                 2 non-null      float64\n",
      "dtypes: float64(13), int64(3), object(11)\n",
      "memory usage: 10.3+ KB\n"
     ]
    }
   ],
   "source": [
    "data.info()"
   ]
  },
  {
   "cell_type": "code",
   "execution_count": 9,
   "id": "429f5ce8-b40d-4a3b-bb99-55ec3da0b8ce",
   "metadata": {},
   "outputs": [
    {
     "data": {
      "text/plain": [
       "index                     0\n",
       "match_id                  0\n",
       "series_id                 0\n",
       "match_details             0\n",
       "result                    0\n",
       "scores                    0\n",
       "date                      0\n",
       "venue                     0\n",
       "round                     0\n",
       "home                      0\n",
       "away                      0\n",
       "winner                    0\n",
       "win_by_runs              30\n",
       "win_by_wickets           19\n",
       "balls_remaining          19\n",
       "innings1                  0\n",
       "innings1_runs             0\n",
       "innings1_wickets          0\n",
       "innings1_overs_batted     0\n",
       "innings1_overs            0\n",
       "innings2                  1\n",
       "innings2_runs             1\n",
       "innings2_wickets          1\n",
       "innings2_overs_batted     1\n",
       "innings2_overs            1\n",
       "D/L_method               46\n",
       "target                   46\n",
       "dtype: int64"
      ]
     },
     "execution_count": 9,
     "metadata": {},
     "output_type": "execute_result"
    }
   ],
   "source": [
    "data.isnull().sum()"
   ]
  },
  {
   "cell_type": "code",
   "execution_count": 10,
   "id": "73d7a3be-e545-4917-8830-32606c9927aa",
   "metadata": {},
   "outputs": [
    {
     "name": "stdout",
     "output_type": "stream",
     "text": [
      "18\n"
     ]
    }
   ],
   "source": [
    "# Total Matches Win by Batting First \n",
    "bat=data['win_by_runs'].count()\n",
    "print(bat)"
   ]
  },
  {
   "cell_type": "code",
   "execution_count": 11,
   "id": "a44b01f7-f607-4c1b-8e9b-ca1736c1ae3e",
   "metadata": {},
   "outputs": [
    {
     "name": "stdout",
     "output_type": "stream",
     "text": [
      "29\n"
     ]
    }
   ],
   "source": [
    "# Total Matches Win by Bowl First \n",
    "\n",
    "bowl=data['win_by_wickets'].count()\n",
    "print(bowl)"
   ]
  },
  {
   "cell_type": "code",
   "execution_count": 12,
   "id": "c9c5314e-afc0-49b9-99ba-64be1476609d",
   "metadata": {},
   "outputs": [],
   "source": [
    "dl_method=data.iloc[[24,33],:]"
   ]
  },
  {
   "cell_type": "code",
   "execution_count": 13,
   "id": "b0aab05d-aeb5-4263-a13f-7af7521fa504",
   "metadata": {},
   "outputs": [],
   "source": [
    "bat_dl=dl_method['win_by_runs'].count()"
   ]
  },
  {
   "cell_type": "code",
   "execution_count": 14,
   "id": "a87a1b19-ba9e-47fd-bbc5-5507d9259c7d",
   "metadata": {},
   "outputs": [],
   "source": [
    "bowl_dl=dl_method['win_by_wickets'].count()"
   ]
  },
  {
   "cell_type": "code",
   "execution_count": 15,
   "id": "9bf19888-e1f0-49f5-9e11-1171323bfee3",
   "metadata": {},
   "outputs": [
    {
     "name": "stdout",
     "output_type": "stream",
     "text": [
      "Total Matches Wins By Batting first: total_wins\n"
     ]
    }
   ],
   "source": [
    "total_wins=bat+bat_dl\n",
    "print(\"Total Matches Wins By Batting first: total_wins\" )"
   ]
  },
  {
   "cell_type": "code",
   "execution_count": null,
   "id": "32686eae-13bd-4a5e-833c-ea1212252938",
   "metadata": {},
   "outputs": [],
   "source": []
  },
  {
   "cell_type": "markdown",
   "id": "2a87dcf2-1471-497c-9a47-0122a38718f3",
   "metadata": {},
   "source": [
    "## Due to two of the mathced that had resulted by DL method out total Wins By Runs are 19 and Total Win By bowl First is 30  "
   ]
  },
  {
   "cell_type": "code",
   "execution_count": null,
   "id": "f307c7f0-6e33-404e-b29f-4d5a5a879ff7",
   "metadata": {},
   "outputs": [],
   "source": []
  },
  {
   "cell_type": "markdown",
   "id": "54b40ee3-8a3f-4bc1-9b16-2add8b871e0e",
   "metadata": {},
   "source": [
    "# Maximum Number of Wins By Team with Batting First "
   ]
  },
  {
   "cell_type": "code",
   "execution_count": 16,
   "id": "2756f1ec-a19f-4d7c-a5b8-56a18afb0884",
   "metadata": {},
   "outputs": [
    {
     "data": {
      "text/plain": [
       "(array([0, 1, 2, 3, 4]),\n",
       " [Text(0, 0, 'Islamabad United'),\n",
       "  Text(1, 0, 'Karachi Kings'),\n",
       "  Text(2, 0, 'Lahore Qalandars'),\n",
       "  Text(3, 0, 'Peshawar Zalmi'),\n",
       "  Text(4, 0, 'Quetta Gladiators')])"
      ]
     },
     "execution_count": 16,
     "metadata": {},
     "output_type": "execute_result"
    },
    {
     "data": {
      "image/png": "[encoded data removed]",
      "text/plain": [
       "<Figure size 640x480 with 1 Axes>"
      ]
     },
     "metadata": {},
     "output_type": "display_data"
    }
   ],
   "source": [
    "win_bat_first=data.groupby('innings1')['win_by_runs'].count().plot(kind='bar')\n",
    "#plt.annotate(\"Max Wins\" , xy=(3,5) , horizontalalignment = 'center' , verticalalignment='bottom')\n",
    "for bar in win_bat_first.patches:\n",
    "    height = bar.get_height()\n",
    "    win_bat_first.text(\n",
    "        bar.get_x() + bar.get_width() / 2,  \n",
    "        height+0.1, f'{height}',ha='center',va='bottom',color='black',fontsize=10)\n",
    "\n",
    "plt.xlabel('innings1')\n",
    "plt.ylabel('count')\n",
    "plt.title(\"Win By Batting First\")\n",
    "plt.xticks(rotation=25)"
   ]
  },
  {
   "cell_type": "markdown",
   "id": "411e5626-7a33-40f3-bb72-e9e30e35525a",
   "metadata": {},
   "source": [
    "## Peshawar Zalmi Won Most Matches By Batting First "
   ]
  },
  {
   "cell_type": "code",
   "execution_count": 17,
   "id": "31f7bea9-37b0-4b7a-9215-dc6ded6e00be",
   "metadata": {},
   "outputs": [
    {
     "data": {
      "text/plain": [
       "(array([0, 1, 2, 3, 4]),\n",
       " [Text(0, 0, 'Islamabad United'),\n",
       "  Text(1, 0, 'Karachi Kings'),\n",
       "  Text(2, 0, 'Lahore Qalandars'),\n",
       "  Text(3, 0, 'Peshawar Zalmi'),\n",
       "  Text(4, 0, 'Quetta Gladiators')])"
      ]
     },
     "execution_count": 17,
     "metadata": {},
     "output_type": "execute_result"
    },
    {
     "data": {
      "image/png": "[encoded data removed]",
      "text/plain": [
       "<Figure size 640x480 with 1 Axes>"
      ]
     },
     "metadata": {},
     "output_type": "display_data"
    }
   ],
   "source": [
    "win_bowl_first=data.groupby('innings2')['win_by_wickets'].count().plot(kind='bar')\n",
    "plt.annotate('Max Wins',xy=(4,8) , horizontalalignment='center' , verticalalignment='top')\n",
    "plt.xlabel('innings2')\n",
    "plt.ylabel('count')\n",
    "plt.title(\"Win By Bowl First\")\n",
    "plt.xticks(rotation=25)"
   ]
  },
  {
   "cell_type": "code",
   "execution_count": 18,
   "id": "78a37aad-25a7-4e1d-b3c5-c6ddcb347cad",
   "metadata": {},
   "outputs": [],
   "source": [
    "## Maximum number of Wins by Team with bowling first is Quetta Gladiator"
   ]
  },
  {
   "cell_type": "code",
   "execution_count": 19,
   "id": "748117ce-5195-4b5e-8344-d85b40c6a1bb",
   "metadata": {},
   "outputs": [
    {
     "name": "stdout",
     "output_type": "stream",
     "text": [
      "innings1\n",
      "Islamabad United     4\n",
      "Karachi Kings        3\n",
      "Lahore Qalandars     3\n",
      "Peshawar Zalmi       5\n",
      "Quetta Gladiators    3\n",
      "Name: win_by_runs, dtype: int64\n"
     ]
    }
   ],
   "source": [
    "batting_first=data.groupby('innings1')['win_by_runs'].count()\n",
    "print(batting_first)"
   ]
  },
  {
   "cell_type": "code",
   "execution_count": 20,
   "id": "62c5b13c-a37c-4ac2-8d22-2f04fbb71b46",
   "metadata": {},
   "outputs": [
    {
     "data": {
      "text/plain": [
       "innings2\n",
       "Islamabad United     8\n",
       "Karachi Kings        3\n",
       "Lahore Qalandars     2\n",
       "Peshawar Zalmi       7\n",
       "Quetta Gladiators    9\n",
       "Name: win_by_wickets, dtype: int64"
      ]
     },
     "execution_count": 20,
     "metadata": {},
     "output_type": "execute_result"
    }
   ],
   "source": [
    "bowl_first=data.groupby('innings2')['win_by_wickets'].count()\n",
    "bowl_first"
   ]
  },
  {
   "cell_type": "code",
   "execution_count": 21,
   "id": "f2166b20-ca18-4c84-972f-6e5b6dfafefd",
   "metadata": {},
   "outputs": [],
   "source": [
    "bowl_first=pd.DataFrame(bowl_first).reset_index()"
   ]
  },
  {
   "cell_type": "code",
   "execution_count": 22,
   "id": "93061595-7ae2-4d34-9804-30d1d8a46725",
   "metadata": {},
   "outputs": [],
   "source": [
    "batting_first=pd.DataFrame(batting_first).reset_index()"
   ]
  },
  {
   "cell_type": "code",
   "execution_count": 23,
   "id": "fcd962b6-40a6-41ca-b415-571d7be47a21",
   "metadata": {},
   "outputs": [],
   "source": [
    "win_analy=pd.concat([batting_first,bowl_first] , axis = 1)"
   ]
  },
  {
   "cell_type": "code",
   "execution_count": 24,
   "id": "4291324c-73a0-4966-8d8d-358f80d00dc9",
   "metadata": {},
   "outputs": [
    {
     "data": {
      "text/html": [
       "<div>\n",
       "<style scoped>\n",
       "    .dataframe tbody tr th:only-of-type {\n",
       "        vertical-align: middle;\n",
       "    }\n",
       "\n",
       "    .dataframe tbody tr th {\n",
       "        vertical-align: top;\n",
       "    }\n",
       "\n",
       "    .dataframe thead th {\n",
       "        text-align: right;\n",
       "    }\n",
       "</style>\n",
       "<table border=\"1\" class=\"dataframe\">\n",
       "  <thead>\n",
       "    <tr style=\"text-align: right;\">\n",
       "      <th></th>\n",
       "      <th>innings1</th>\n",
       "      <th>win_by_runs</th>\n",
       "      <th>innings2</th>\n",
       "      <th>win_by_wickets</th>\n",
       "    </tr>\n",
       "  </thead>\n",
       "  <tbody>\n",
       "    <tr>\n",
       "      <th>0</th>\n",
       "      <td>Islamabad United</td>\n",
       "      <td>4</td>\n",
       "      <td>Islamabad United</td>\n",
       "      <td>8</td>\n",
       "    </tr>\n",
       "    <tr>\n",
       "      <th>1</th>\n",
       "      <td>Karachi Kings</td>\n",
       "      <td>3</td>\n",
       "      <td>Karachi Kings</td>\n",
       "      <td>3</td>\n",
       "    </tr>\n",
       "    <tr>\n",
       "      <th>2</th>\n",
       "      <td>Lahore Qalandars</td>\n",
       "      <td>3</td>\n",
       "      <td>Lahore Qalandars</td>\n",
       "      <td>2</td>\n",
       "    </tr>\n",
       "    <tr>\n",
       "      <th>3</th>\n",
       "      <td>Peshawar Zalmi</td>\n",
       "      <td>5</td>\n",
       "      <td>Peshawar Zalmi</td>\n",
       "      <td>7</td>\n",
       "    </tr>\n",
       "    <tr>\n",
       "      <th>4</th>\n",
       "      <td>Quetta Gladiators</td>\n",
       "      <td>3</td>\n",
       "      <td>Quetta Gladiators</td>\n",
       "      <td>9</td>\n",
       "    </tr>\n",
       "  </tbody>\n",
       "</table>\n",
       "</div>"
      ],
      "text/plain": [
       "            innings1  win_by_runs           innings2  win_by_wickets\n",
       "0   Islamabad United            4   Islamabad United               8\n",
       "1      Karachi Kings            3      Karachi Kings               3\n",
       "2   Lahore Qalandars            3   Lahore Qalandars               2\n",
       "3     Peshawar Zalmi            5     Peshawar Zalmi               7\n",
       "4  Quetta Gladiators            3  Quetta Gladiators               9"
      ]
     },
     "execution_count": 24,
     "metadata": {},
     "output_type": "execute_result"
    }
   ],
   "source": [
    "win_analy"
   ]
  },
  {
   "cell_type": "code",
   "execution_count": 25,
   "id": "62c36cc7-80f5-4665-a2df-09fc0ca33e91",
   "metadata": {},
   "outputs": [
    {
     "data": {
      "image/png": "[encoded data removed]",
      "text/plain": [
       "<Figure size 1000x600 with 1 Axes>"
      ]
     },
     "metadata": {},
     "output_type": "display_data"
    }
   ],
   "source": [
    "plt.figure(figsize=(10, 6))\n",
    "\n",
    "# Bar width\n",
    "bar_width = 0.35\n",
    "\n",
    "# Set position of bar on X axis\n",
    "r1 = range(len(win_analy))\n",
    "r2 = [x + bar_width for x in r1]\n",
    "\n",
    "# Plotting innings1\n",
    "plt.bar(r1, win_analy['win_by_runs'], color='blue', width=bar_width, edgecolor='grey', label='Bat First')\n",
    "\n",
    "# Plotting innings2\n",
    "plt.bar(r2, win_analy['win_by_wickets'], color='orange', width=bar_width, edgecolor='grey', label='Bowl First')\n",
    "plt.xlabel('Team', fontweight='bold')\n",
    "plt.ylabel('Match Wins', fontweight='bold')\n",
    "plt.xticks([r + bar_width/2 for r in range(len(win_analy))], win_analy['innings1'], rotation=45)\n",
    "plt.title('Winning Analysis By Batting/Bowling First')\n",
    "plt.legend()\n",
    "plt.show()"
   ]
  },
  {
   "cell_type": "code",
   "execution_count": 26,
   "id": "f81db7df-5fc3-4193-8bea-6e7688dabd55",
   "metadata": {},
   "outputs": [],
   "source": [
    "filtered_data=data.loc[data['innings1'] > data['innings2'],['win_by_runs','innings1', 'innings2']].value_counts()\n"
   ]
  },
  {
   "cell_type": "code",
   "execution_count": 27,
   "id": "a13bbe21-f768-4bf6-b326-6c3dc1e85f42",
   "metadata": {},
   "outputs": [],
   "source": [
    "bat_first_result = []\n",
    "for index, value in filtered_data.items():\n",
    "    innings1 = index[1]\n",
    "    win_by_runs = index[0]\n",
    "    against = index[2]\n",
    "    bat_first_result.append(f\"Matches where {innings1} batted First and win by {win_by_runs} runs agaianst {against} team\")  \n",
    "    "
   ]
  },
  {
   "cell_type": "code",
   "execution_count": 28,
   "id": "392bc95e-5ab4-4dfe-a685-86a9a89a7278",
   "metadata": {},
   "outputs": [
    {
     "data": {
      "text/plain": [
       "['Matches where Quetta Gladiators batted First and win by 1.0 runs agaianst Peshawar Zalmi team',\n",
       " 'Matches where Peshawar Zalmi batted First and win by 3.0 runs agaianst Karachi Kings team',\n",
       " 'Matches where Lahore Qalandars batted First and win by 7.0 runs agaianst Karachi Kings team',\n",
       " 'Matches where Quetta Gladiators batted First and win by 8.0 runs agaianst Lahore Qalandars team',\n",
       " 'Matches where Peshawar Zalmi batted First and win by 17.0 runs agaianst Lahore Qalandars team',\n",
       " 'Matches where Peshawar Zalmi batted First and win by 24.0 runs agaianst Islamabad United team',\n",
       " 'Matches where Peshawar Zalmi batted First and win by 24.0 runs agaianst Karachi Kings team',\n",
       " 'Matches where Karachi Kings batted First and win by 44.0 runs agaianst Islamabad United team']"
      ]
     },
     "execution_count": 28,
     "metadata": {},
     "output_type": "execute_result"
    }
   ],
   "source": [
    "bat_first_result"
   ]
  },
  {
   "cell_type": "code",
   "execution_count": 29,
   "id": "d027ab42-19dd-46d0-877a-555863a9d469",
   "metadata": {},
   "outputs": [],
   "source": [
    "filtered2_data=data.loc[data['innings2'] > data['innings1'],['win_by_wickets', 'innings2']].value_counts()\n"
   ]
  },
  {
   "cell_type": "code",
   "execution_count": 30,
   "id": "2751f809-2a19-429b-b8c3-65d8cb9bc37c",
   "metadata": {},
   "outputs": [],
   "source": [
    "bowl_first_result=[]\n",
    "for index , value in filtered2_data.items():\n",
    "    \n",
    "    win_by_wickets = index[0]\n",
    "    innings2 = index[1]\n",
    "    bowl_first_result.append(f' {innings2} wins by {win_by_wickets} wicket .')"
   ]
  },
  {
   "cell_type": "code",
   "execution_count": 31,
   "id": "76888407-cb5b-403c-9f81-b1899bf3611d",
   "metadata": {},
   "outputs": [
    {
     "data": {
      "text/plain": [
       "[' Quetta Gladiators wins by 5.0 wicket .',\n",
       " ' Peshawar Zalmi wins by 7.0 wicket .',\n",
       " ' Quetta Gladiators wins by 7.0 wicket .',\n",
       " ' Quetta Gladiators wins by 8.0 wicket .',\n",
       " ' Lahore Qalandars wins by 1.0 wicket .',\n",
       " ' Quetta Gladiators wins by 2.0 wicket .',\n",
       " ' Peshawar Zalmi wins by 3.0 wicket .',\n",
       " ' Quetta Gladiators wins by 3.0 wicket .',\n",
       " ' Peshawar Zalmi wins by 5.0 wicket .',\n",
       " ' Karachi Kings wins by 6.0 wicket .',\n",
       " ' Lahore Qalandars wins by 6.0 wicket .',\n",
       " ' Quetta Gladiators wins by 6.0 wicket .',\n",
       " ' Peshawar Zalmi wins by 9.0 wicket .']"
      ]
     },
     "execution_count": 31,
     "metadata": {},
     "output_type": "execute_result"
    }
   ],
   "source": [
    "bowl_first_result"
   ]
  },
  {
   "cell_type": "code",
   "execution_count": 32,
   "id": "56a92ed3-815d-4efb-9832-68f6eb1d485d",
   "metadata": {},
   "outputs": [
    {
     "data": {
      "text/html": [
       "<div>\n",
       "<style scoped>\n",
       "    .dataframe tbody tr th:only-of-type {\n",
       "        vertical-align: middle;\n",
       "    }\n",
       "\n",
       "    .dataframe tbody tr th {\n",
       "        vertical-align: top;\n",
       "    }\n",
       "\n",
       "    .dataframe thead th {\n",
       "        text-align: right;\n",
       "    }\n",
       "</style>\n",
       "<table border=\"1\" class=\"dataframe\">\n",
       "  <thead>\n",
       "    <tr style=\"text-align: right;\">\n",
       "      <th></th>\n",
       "      <th>win_by_runs</th>\n",
       "      <th>innings1</th>\n",
       "      <th>innings2</th>\n",
       "      <th>count</th>\n",
       "    </tr>\n",
       "  </thead>\n",
       "  <tbody>\n",
       "    <tr>\n",
       "      <th>0</th>\n",
       "      <td>1.0</td>\n",
       "      <td>Quetta Gladiators</td>\n",
       "      <td>Peshawar Zalmi</td>\n",
       "      <td>2</td>\n",
       "    </tr>\n",
       "    <tr>\n",
       "      <th>1</th>\n",
       "      <td>3.0</td>\n",
       "      <td>Peshawar Zalmi</td>\n",
       "      <td>Karachi Kings</td>\n",
       "      <td>1</td>\n",
       "    </tr>\n",
       "    <tr>\n",
       "      <th>2</th>\n",
       "      <td>7.0</td>\n",
       "      <td>Lahore Qalandars</td>\n",
       "      <td>Karachi Kings</td>\n",
       "      <td>1</td>\n",
       "    </tr>\n",
       "    <tr>\n",
       "      <th>3</th>\n",
       "      <td>8.0</td>\n",
       "      <td>Quetta Gladiators</td>\n",
       "      <td>Lahore Qalandars</td>\n",
       "      <td>1</td>\n",
       "    </tr>\n",
       "    <tr>\n",
       "      <th>4</th>\n",
       "      <td>17.0</td>\n",
       "      <td>Peshawar Zalmi</td>\n",
       "      <td>Lahore Qalandars</td>\n",
       "      <td>1</td>\n",
       "    </tr>\n",
       "    <tr>\n",
       "      <th>5</th>\n",
       "      <td>24.0</td>\n",
       "      <td>Peshawar Zalmi</td>\n",
       "      <td>Islamabad United</td>\n",
       "      <td>1</td>\n",
       "    </tr>\n",
       "    <tr>\n",
       "      <th>6</th>\n",
       "      <td>24.0</td>\n",
       "      <td>Peshawar Zalmi</td>\n",
       "      <td>Karachi Kings</td>\n",
       "      <td>1</td>\n",
       "    </tr>\n",
       "    <tr>\n",
       "      <th>7</th>\n",
       "      <td>44.0</td>\n",
       "      <td>Karachi Kings</td>\n",
       "      <td>Islamabad United</td>\n",
       "      <td>1</td>\n",
       "    </tr>\n",
       "  </tbody>\n",
       "</table>\n",
       "</div>"
      ],
      "text/plain": [
       "   win_by_runs           innings1          innings2  count\n",
       "0          1.0  Quetta Gladiators    Peshawar Zalmi      2\n",
       "1          3.0     Peshawar Zalmi     Karachi Kings      1\n",
       "2          7.0   Lahore Qalandars     Karachi Kings      1\n",
       "3          8.0  Quetta Gladiators  Lahore Qalandars      1\n",
       "4         17.0     Peshawar Zalmi  Lahore Qalandars      1\n",
       "5         24.0     Peshawar Zalmi  Islamabad United      1\n",
       "6         24.0     Peshawar Zalmi     Karachi Kings      1\n",
       "7         44.0      Karachi Kings  Islamabad United      1"
      ]
     },
     "execution_count": 32,
     "metadata": {},
     "output_type": "execute_result"
    }
   ],
   "source": [
    "fisrt_innings_wins=pd.DataFrame(filtered_data).reset_index()\n",
    "fisrt_innings_wins"
   ]
  },
  {
   "cell_type": "code",
   "execution_count": 33,
   "id": "d6f62d96-3979-49d5-96de-21ffde7e912d",
   "metadata": {},
   "outputs": [],
   "source": [
    "teams = ['Karachi Kings' , 'Quetta Gladiators' , 'Lahore Qalandars' , 'Peshawar Zalmi' , 'Islamabad United']"
   ]
  },
  {
   "cell_type": "code",
   "execution_count": 34,
   "id": "130941f3-5fd1-44da-b9a0-5409596f5e81",
   "metadata": {},
   "outputs": [
    {
     "name": "stdout",
     "output_type": "stream",
     "text": [
      "Karachi Kings Win  66.67% when bowled first against Lahore Qalandars :     \" Won = 2 Played = 3 \"\n",
      "Karachi Kings Win  0.00% when bowled first against Peshawar Zalmi :     \" Won = 0 Played = 2 \"\n",
      "Karachi Kings Win  66.67% when bowled first against Islamabad United :     \" Won = 2 Played = 3 \"\n",
      "\n",
      "\n",
      "Quetta Gladiators Win  100.00% when bowled first against Karachi Kings :     \" Won = 4 Played = 4 \"\n",
      "Quetta Gladiators Win  66.67% when bowled first against Lahore Qalandars :     \" Won = 2 Played = 3 \"\n",
      "Quetta Gladiators Win  50.00% when bowled first against Peshawar Zalmi :     \" Won = 1 Played = 2 \"\n",
      "Quetta Gladiators Win  66.67% when bowled first against Islamabad United :     \" Won = 2 Played = 3 \"\n",
      "\n",
      "\n",
      "Lahore Qalandars Win  0.00% when bowled first against Karachi Kings :     \" Won = 0 Played = 1 \"\n",
      "Lahore Qalandars Win  0.00% when bowled first against Quetta Gladiators :     \" Won = 0 Played = 1 \"\n",
      "Lahore Qalandars Win  0.00% when bowled first against Peshawar Zalmi :     \" Won = 0 Played = 1 \"\n",
      "Lahore Qalandars Win  100.00% when bowled first against Islamabad United :     \" Won = 2 Played = 2 \"\n",
      "\n",
      "\n",
      "Peshawar Zalmi Win  66.67% when bowled first against Karachi Kings :     \" Won = 2 Played = 3 \"\n",
      "Peshawar Zalmi Win  50.00% when bowled first against Quetta Gladiators :     \" Won = 2 Played = 4 \"\n",
      "Peshawar Zalmi Win  66.67% when bowled first against Lahore Qalandars :     \" Won = 2 Played = 3 \"\n",
      "Peshawar Zalmi Win  50.00% when bowled first against Islamabad United :     \" Won = 1 Played = 2 \"\n",
      "\n",
      "\n",
      "Islamabad United Win  66.67% when bowled first against Karachi Kings :     \" Won = 2 Played = 3 \"\n",
      "Islamabad United Win  100.00% when bowled first against Quetta Gladiators :     \" Won = 2 Played = 2 \"\n",
      "Islamabad United Win  100.00% when bowled first against Lahore Qalandars :     \" Won = 2 Played = 2 \"\n",
      "Islamabad United Win  66.67% when bowled first against Peshawar Zalmi :     \" Won = 2 Played = 3 \"\n",
      "\n",
      "\n"
     ]
    }
   ],
   "source": [
    "for i in teams:\n",
    "    for j in teams:\n",
    "                win = data[(data['innings2'] == i) & (data['winner'] == i) &\n",
    "                         (data['innings1'] == j) ].shape[0]\n",
    "                playd = data[(data['innings2'] == i) &\n",
    "                           (data['innings1'] == j) ].shape[0]\n",
    "                \n",
    "                if playd != 0:\n",
    "                     \n",
    "                     print(f'{i} Win {win*100/playd : .2f}% when bowled first against {j} :     \" Won = {win} Played = {playd} \"')\n",
    "    print('\\n')    \n",
    "       "
   ]
  },
  {
   "cell_type": "code",
   "execution_count": 89,
   "id": "84b72c34-31ad-4e63-82f6-1b7b2c46e728",
   "metadata": {},
   "outputs": [
    {
     "name": "stdout",
     "output_type": "stream",
     "text": [
      "Karachi Kings: Total Matches = 19, Wins = 7, Win Percentage =  36.84%\n",
      "Quetta Gladiators: Total Matches = 19, Wins = 12, Win Percentage =  63.16%\n",
      "Lahore Qalandars: Total Matches = 16, Wins = 5, Win Percentage =  31.25%\n",
      "Peshawar Zalmi: Total Matches = 21, Wins = 12, Win Percentage =  57.14%\n",
      "Islamabad United: Total Matches = 20, Wins = 11, Win Percentage =  55.00%\n"
     ]
    }
   ],
   "source": [
    "for i in teams:\n",
    "    total_matches = data[(data['innings1'] == i) | (data['innings2'] == i)]['result'].count()\n",
    "    matches_won = data[data['winner'] == i]['result'].count()\n",
    "    win_percent = (matches_won / total_matches * 100)\n",
    "    print(f\"{i}: Total Matches = {total_matches}, Wins = {matches_won}, Win Percentage = {win_percent: .2f}%\")\n",
    "    "
   ]
  },
  {
   "cell_type": "code",
   "execution_count": 63,
   "id": "53045511-c089-4f11-aa98-39895820e02e",
   "metadata": {},
   "outputs": [],
   "source": [
    "df=pd.DataFrame(dic).T"
   ]
  },
  {
   "cell_type": "code",
   "execution_count": 64,
   "id": "1c52bcce-57e2-487b-a515-c101672e40b9",
   "metadata": {},
   "outputs": [
    {
     "data": {
      "text/html": [
       "<div>\n",
       "<style scoped>\n",
       "    .dataframe tbody tr th:only-of-type {\n",
       "        vertical-align: middle;\n",
       "    }\n",
       "\n",
       "    .dataframe tbody tr th {\n",
       "        vertical-align: top;\n",
       "    }\n",
       "\n",
       "    .dataframe thead th {\n",
       "        text-align: right;\n",
       "    }\n",
       "</style>\n",
       "<table border=\"1\" class=\"dataframe\">\n",
       "  <thead>\n",
       "    <tr style=\"text-align: right;\">\n",
       "      <th></th>\n",
       "      <th>Matches</th>\n",
       "      <th>Won</th>\n",
       "      <th>Win%</th>\n",
       "    </tr>\n",
       "  </thead>\n",
       "  <tbody>\n",
       "    <tr>\n",
       "      <th>Karachi Kings</th>\n",
       "      <td>19.0</td>\n",
       "      <td>7.0</td>\n",
       "      <td>36.842105</td>\n",
       "    </tr>\n",
       "    <tr>\n",
       "      <th>Quetta Gladiators</th>\n",
       "      <td>19.0</td>\n",
       "      <td>12.0</td>\n",
       "      <td>63.157895</td>\n",
       "    </tr>\n",
       "    <tr>\n",
       "      <th>Lahore Qalandars</th>\n",
       "      <td>16.0</td>\n",
       "      <td>5.0</td>\n",
       "      <td>31.250000</td>\n",
       "    </tr>\n",
       "    <tr>\n",
       "      <th>Peshawar Zalmi</th>\n",
       "      <td>21.0</td>\n",
       "      <td>12.0</td>\n",
       "      <td>57.142857</td>\n",
       "    </tr>\n",
       "    <tr>\n",
       "      <th>Islamabad United</th>\n",
       "      <td>20.0</td>\n",
       "      <td>11.0</td>\n",
       "      <td>55.000000</td>\n",
       "    </tr>\n",
       "  </tbody>\n",
       "</table>\n",
       "</div>"
      ],
      "text/plain": [
       "                   Matches   Won       Win%\n",
       "Karachi Kings         19.0   7.0  36.842105\n",
       "Quetta Gladiators     19.0  12.0  63.157895\n",
       "Lahore Qalandars      16.0   5.0  31.250000\n",
       "Peshawar Zalmi        21.0  12.0  57.142857\n",
       "Islamabad United      20.0  11.0  55.000000"
      ]
     },
     "execution_count": 64,
     "metadata": {},
     "output_type": "execute_result"
    }
   ],
   "source": [
    "df"
   ]
  },
  {
   "cell_type": "code",
   "execution_count": 88,
   "id": "271dfbaf-b77f-4242-a01a-34849a884749",
   "metadata": {},
   "outputs": [
    {
     "data": {
      "image/png": "[encoded data removed]",
      "text/plain": [
       "<Figure size 640x480 with 1 Axes>"
      ]
     },
     "metadata": {},
     "output_type": "display_data"
    }
   ],
   "source": [
    "bars=plt.bar(teams,df['Win%']) \n",
    "plt.xticks(rotation=45)\n",
    "plt.title(\"Win Percentage OF PSL Teams\")\n",
    "plt.xlabel(\"PSL Teams\")\n",
    "plt.ylabel(\"Winning %\")\n",
    "\n",
    "for bar in bars:\n",
    "    height = bar.get_height()\n",
    "    plt.text(bar.get_x() + bar.get_width() / 2, height, f'{height:.1f}%', \n",
    "             ha='center', va='bottom', fontsize=10, color='black')\n",
    "\n",
    "plt.show()\n"
   ]
  },
  {
   "cell_type": "markdown",
   "id": "cf2cbb80-bfcd-4f2a-9073-fecec8648d52",
   "metadata": {},
   "source": [
    "## Quetta Gladiator has the most Win Percentage "
   ]
  },
  {
   "cell_type": "code",
   "execution_count": 92,
   "id": "60bede87-92d3-4cac-8f43-367893e3b67f",
   "metadata": {},
   "outputs": [
    {
     "name": "stdout",
     "output_type": "stream",
     "text": [
      "Karachi Kings: Total Matches = 19, Wins = 3, Win Percentage =  15.79%\n",
      "Quetta Gladiators: Total Matches = 19, Wins = 9, Win Percentage =  47.37%\n",
      "Lahore Qalandars: Total Matches = 16, Wins = 2, Win Percentage =  12.50%\n",
      "Peshawar Zalmi: Total Matches = 21, Wins = 7, Win Percentage =  33.33%\n",
      "Islamabad United: Total Matches = 20, Wins = 8, Win Percentage =  40.00%\n"
     ]
    }
   ],
   "source": [
    "for i in teams:\n",
    "    total_matches = data[(data['innings1'] == i) | (data['innings2'] == i)]['result'].count()\n",
    "    matches_won = data[data['winner'] == i]['win_by_wickets'].count()\n",
    "    win_percent = (matches_won / total_matches * 100)\n",
    "    print(f\"{i}: Total Matches = {total_matches}, Wins = {matches_won}, Win Percentage = {win_percent: .2f}%\")\n",
    "    "
   ]
  }
 ],
 "metadata": {
  "kernelspec": {
   "display_name": "Python 3 (ipykernel)",
   "language": "python",
   "name": "python3"
  },
  "language_info": {
   "codemirror_mode": {
    "name": "ipython",
    "version": 3
   },
   "file_extension": ".py",
   "mimetype": "text/x-python",
   "name": "python",
   "nbconvert_exporter": "python",
   "pygments_lexer": "ipython3",
   "version": "3.12.4"
  }
 },
 "nbformat": 4,
 "nbformat_minor": 5
}
